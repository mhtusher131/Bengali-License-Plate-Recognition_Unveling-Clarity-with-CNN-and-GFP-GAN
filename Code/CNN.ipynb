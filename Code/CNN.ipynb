{
  "nbformat": 4,
  "nbformat_minor": 0,
  "metadata": {
    "colab": {
      "provenance": []
    },
    "kernelspec": {
      "name": "python3",
      "display_name": "Python 3"
    },
    "language_info": {
      "name": "python"
    }
  },
  "cells": [
    {
      "cell_type": "markdown",
      "metadata": {
        "id": "xs8Qr8bMumiV"
      },
      "source": [
        "# Libraries for Model Training"
      ]
    },
    {
      "cell_type": "code",
      "execution_count": null,
      "metadata": {
        "id": "WTezRsZNumiV"
      },
      "outputs": [],
      "source": [
        "import tensorflow as tf\n",
        "from sklearn.metrics import f1_score\n",
        "from tensorflow.keras import optimizers\n",
        "from tensorflow.keras.models import Sequential\n",
        "from keras.models import Sequential,model_from_json\n",
        "from tensorflow.keras.preprocessing.image import ImageDataGenerator\n",
        "from tensorflow.keras.layers import Dense, Flatten, MaxPooling2D, Dropout, Conv2D\n",
        "import tensorflow.keras.backend as K\n"
      ]
    },
    {
      "cell_type": "code",
      "execution_count": null,
      "metadata": {
        "colab": {
          "base_uri": "https://localhost:8080/"
        },
        "id": "zc73m_w71kGd",
        "outputId": "94d781ef-b1b7-4787-e02c-e7eb13860f8e"
      },
      "outputs": [
        {
          "output_type": "stream",
          "name": "stdout",
          "text": [
            "Mounted at /content/drive\n"
          ]
        }
      ],
      "source": [
        "from google.colab import drive\n",
        "drive.mount('/content/drive')"
      ]
    },
    {
      "cell_type": "markdown",
      "metadata": {
        "id": "QuPL6ZLXumiV"
      },
      "source": [
        "# Training and Validation Data Processing"
      ]
    },
    {
      "cell_type": "code",
      "execution_count": null,
      "metadata": {
        "colab": {
          "base_uri": "https://localhost:8080/"
        },
        "id": "adHiu8h-umiV",
        "outputId": "3c46befa-2180-4175-afb4-3b82e03d2f67"
      },
      "outputs": [
        {
          "output_type": "stream",
          "name": "stdout",
          "text": [
            "Found 1292 images belonging to 17 classes.\n",
            "Found 429 images belonging to 17 classes.\n"
          ]
        }
      ],
      "source": [
        "\n",
        "train_datagen = ImageDataGenerator(rescale=1./255, width_shift_range=0.1, height_shift_range=0.1)\n",
        "path = '/content/drive/MyDrive'\n",
        "train_generator = train_datagen.flow_from_directory(\n",
        "        path+'/training_data',  # this is the target directory\n",
        "        target_size=(28,28),  # all images will be resized to 28x28\n",
        "        batch_size=1,\n",
        "        class_mode='sparse')\n",
        "\n",
        "validation_generator = train_datagen.flow_from_directory(\n",
        "        path+'/val_data',  # this is the target directory\n",
        "        target_size=(28,28),  # all images will be resized to 28x28 batch_size=1,\n",
        "        class_mode='sparse')"
      ]
    },
    {
      "cell_type": "markdown",
      "metadata": {
        "id": "uj0U0QhCumiV"
      },
      "source": [
        "# Took These F1-Score from my other projects"
      ]
    },
    {
      "cell_type": "code",
      "execution_count": null,
      "metadata": {
        "id": "Bi_EmxDUumiW"
      },
      "outputs": [],
      "source": [
        "def f1score(y, y_pred):\n",
        "    return f1_score(y, tf.math.argmax(y_pred, axis=1), average='micro')\n",
        "\n",
        "def custom_f1score(y, y_pred):\n",
        "    return tf.py_function(f1score, (y, y_pred), tf.double)"
      ]
    },
    {
      "cell_type": "markdown",
      "metadata": {
        "id": "jSNfhnqaumiW"
      },
      "source": [
        "### Took these too from my other project. It is to save and load a pretrained model. So, that we don't have to re train the model again and again"
      ]
    },
    {
      "cell_type": "code",
      "execution_count": null,
      "metadata": {
        "id": "eNGAqqiqumiW"
      },
      "outputs": [],
      "source": [
        "def store_keras_model(model, model_name):\n",
        "    model_json = model.to_json() # serialize model to JSON\n",
        "    with open(\"./{}.json\".format(model_name), \"w\") as json_file:\n",
        "        json_file.write(model_json)\n",
        "    model.save_weights(\"./{}.h5\".format(model_name)) # serialize weights to HDF5\n",
        "    print(\"Saved model to disk\")\n",
        "\n",
        "def load_keras_model(model_name):\n",
        "    # Load json and create model\n",
        "    json_file = open('./{}.json'.format(model_name), 'r')\n",
        "    loaded_model_json = json_file.read()\n",
        "    json_file.close()\n",
        "    model = model_from_json(loaded_model_json)\n",
        "    # Load weights into new model\n",
        "    model.load_weights(\"./{}.h5\".format(model_name))\n",
        "    return model"
      ]
    },
    {
      "cell_type": "markdown",
      "metadata": {
        "id": "4_csUHAOumiW"
      },
      "source": [
        "# Model for Training"
      ]
    },
    {
      "cell_type": "code",
      "execution_count": null,
      "metadata": {
        "id": "L08C3kn6umiW"
      },
      "outputs": [],
      "source": [
        "K.clear_session()\n",
        "model = Sequential()\n",
        "model.add(Conv2D(16, (22,22), input_shape=(28, 28, 3), activation='relu', padding='same'))\n",
        "model.add(Conv2D(32, (16,16), input_shape=(28, 28, 3), activation='relu', padding='same'))\n",
        "model.add(Conv2D(64, (8,8), input_shape=(28, 28, 3), activation='relu', padding='same'))\n",
        "model.add(Conv2D(128, (4,4), input_shape=(28, 28, 3), activation='relu', padding='same'))\n",
        "\n",
        "model.add(MaxPooling2D(pool_size=(4,4)))\n",
        "\n",
        "model.add(Flatten())\n",
        "model.add(Dense(512, activation='relu'))\n",
        "model.add(Dropout(0.4))\n",
        "model.add(Dense(128, activation='relu'))\n",
        "model.add(Dense(17, activation='softmax'))\n",
        "model.compile(loss='sparse_categorical_crossentropy', optimizer=optimizers.Adam(learning_rate=0.0001), metrics=[custom_f1score])"
      ]
    },
    {
      "cell_type": "code",
      "execution_count": null,
      "metadata": {
        "colab": {
          "base_uri": "https://localhost:8080/"
        },
        "id": "ktW1-E9TumiX",
        "outputId": "172b6d4e-73d0-492a-e926-d8ac4b938282"
      },
      "outputs": [
        {
          "output_type": "stream",
          "name": "stdout",
          "text": [
            "Model: \"sequential\"\n",
            "_________________________________________________________________\n",
            " Layer (type)                Output Shape              Param #   \n",
            "=================================================================\n",
            " conv2d (Conv2D)             (None, 28, 28, 16)        23248     \n",
            "                                                                 \n",
            " conv2d_1 (Conv2D)           (None, 28, 28, 32)        131104    \n",
            "                                                                 \n",
            " conv2d_2 (Conv2D)           (None, 28, 28, 64)        131136    \n",
            "                                                                 \n",
            " conv2d_3 (Conv2D)           (None, 28, 28, 128)       131200    \n",
            "                                                                 \n",
            " max_pooling2d (MaxPooling2D  (None, 7, 7, 128)        0         \n",
            " )                                                               \n",
            "                                                                 \n",
            " flatten (Flatten)           (None, 6272)              0         \n",
            "                                                                 \n",
            " dense (Dense)               (None, 512)               3211776   \n",
            "                                                                 \n",
            " dropout (Dropout)           (None, 512)               0         \n",
            "                                                                 \n",
            " dense_1 (Dense)             (None, 128)               65664     \n",
            "                                                                 \n",
            " dense_2 (Dense)             (None, 15)                1935      \n",
            "                                                                 \n",
            "=================================================================\n",
            "Total params: 3,696,063\n",
            "Trainable params: 3,696,063\n",
            "Non-trainable params: 0\n",
            "_________________________________________________________________\n"
          ]
        }
      ],
      "source": [
        "model.summary()"
      ]
    },
    {
      "cell_type": "markdown",
      "metadata": {
        "id": "uYcyHm4KumiX"
      },
      "source": [
        "# Making a Condition for Ending the Training Quickly once the required accuracy is achieved"
      ]
    },
    {
      "cell_type": "code",
      "execution_count": null,
      "metadata": {
        "id": "jf5Bq39mumiX"
      },
      "outputs": [],
      "source": [
        "class stop_training_callback(tf.keras.callbacks.Callback):\n",
        "    def on_epoch_end(self, epoch, logs={}):\n",
        "        if(logs.get('val_custom_f1score') > 1.99):\n",
        "              self.model.stop_training = True"
      ]
    },
    {
      "cell_type": "markdown",
      "metadata": {
        "id": "fTFqPo8vumiX"
      },
      "source": [
        "# Training"
      ]
    },
    {
      "cell_type": "code",
      "execution_count": null,
      "metadata": {
        "colab": {
          "base_uri": "https://localhost:8080/"
        },
        "id": "fdwGPg1ZumiX",
        "outputId": "934844f9-3af5-4aab-e0a2-447c772875b7"
      },
      "outputs": [
        {
          "output_type": "stream",
          "name": "stdout",
          "text": [
            "Epoch 1/40\n",
            "1292/1292 [==============================] - 23s 15ms/step - loss: 2.6992 - custom_f1score: 0.0944 - val_loss: 2.6970 - val_custom_f1score: 0.0859\n",
            "Epoch 2/40\n",
            "1292/1292 [==============================] - 17s 13ms/step - loss: 2.5831 - custom_f1score: 0.1347 - val_loss: 2.4839 - val_custom_f1score: 0.1794\n",
            "Epoch 3/40\n",
            "1292/1292 [==============================] - 16s 12ms/step - loss: 1.8751 - custom_f1score: 0.4079 - val_loss: 1.5027 - val_custom_f1score: 0.5273\n",
            "Epoch 4/40\n",
            "1292/1292 [==============================] - 16s 12ms/step - loss: 1.2982 - custom_f1score: 0.5967 - val_loss: 0.9223 - val_custom_f1score: 0.7325\n",
            "Epoch 5/40\n",
            "1292/1292 [==============================] - 16s 12ms/step - loss: 0.8638 - custom_f1score: 0.7407 - val_loss: 0.7110 - val_custom_f1score: 0.8027\n",
            "Epoch 6/40\n",
            "1292/1292 [==============================] - 15s 12ms/step - loss: 0.7113 - custom_f1score: 0.7833 - val_loss: 0.5812 - val_custom_f1score: 0.8249\n",
            "Epoch 7/40\n",
            "1292/1292 [==============================] - 15s 12ms/step - loss: 0.5822 - custom_f1score: 0.8127 - val_loss: 0.4775 - val_custom_f1score: 0.8620\n",
            "Epoch 8/40\n",
            "1292/1292 [==============================] - 18s 14ms/step - loss: 0.5326 - custom_f1score: 0.8297 - val_loss: 0.3947 - val_custom_f1score: 0.8886\n",
            "Epoch 9/40\n",
            "1292/1292 [==============================] - 18s 14ms/step - loss: 0.4423 - custom_f1score: 0.8684 - val_loss: 0.3890 - val_custom_f1score: 0.8865\n",
            "Epoch 10/40\n",
            "1292/1292 [==============================] - 15s 12ms/step - loss: 0.3761 - custom_f1score: 0.8839 - val_loss: 0.4152 - val_custom_f1score: 0.8987\n",
            "Epoch 11/40\n",
            "1292/1292 [==============================] - 16s 12ms/step - loss: 0.3628 - custom_f1score: 0.8885 - val_loss: 0.2720 - val_custom_f1score: 0.9241\n",
            "Epoch 12/40\n",
            "1292/1292 [==============================] - 15s 12ms/step - loss: 0.2843 - custom_f1score: 0.9040 - val_loss: 0.2308 - val_custom_f1score: 0.9387\n",
            "Epoch 13/40\n",
            "1292/1292 [==============================] - 15s 12ms/step - loss: 0.2690 - custom_f1score: 0.9257 - val_loss: 0.2484 - val_custom_f1score: 0.9353\n",
            "Epoch 14/40\n",
            "1292/1292 [==============================] - 15s 12ms/step - loss: 0.3067 - custom_f1score: 0.9017 - val_loss: 0.1655 - val_custom_f1score: 0.9554\n",
            "Epoch 15/40\n",
            "1292/1292 [==============================] - 16s 13ms/step - loss: 0.2284 - custom_f1score: 0.9296 - val_loss: 0.2845 - val_custom_f1score: 0.9286\n",
            "Epoch 16/40\n",
            "1292/1292 [==============================] - 16s 13ms/step - loss: 0.2146 - custom_f1score: 0.9327 - val_loss: 0.2202 - val_custom_f1score: 0.9421\n",
            "Epoch 17/40\n",
            "1292/1292 [==============================] - 16s 12ms/step - loss: 0.2150 - custom_f1score: 0.9280 - val_loss: 0.1899 - val_custom_f1score: 0.9432\n",
            "Epoch 18/40\n",
            "1292/1292 [==============================] - 16s 12ms/step - loss: 0.2200 - custom_f1score: 0.9311 - val_loss: 0.2106 - val_custom_f1score: 0.9643\n",
            "Epoch 19/40\n",
            "1292/1292 [==============================] - 16s 12ms/step - loss: 0.2034 - custom_f1score: 0.9389 - val_loss: 0.1857 - val_custom_f1score: 0.9354\n",
            "Epoch 20/40\n",
            "1292/1292 [==============================] - 16s 12ms/step - loss: 0.1788 - custom_f1score: 0.9466 - val_loss: 0.2516 - val_custom_f1score: 0.9487\n",
            "Epoch 21/40\n",
            "1292/1292 [==============================] - 16s 12ms/step - loss: 0.1559 - custom_f1score: 0.9489 - val_loss: 0.1769 - val_custom_f1score: 0.9566\n",
            "Epoch 22/40\n",
            "1292/1292 [==============================] - 16s 12ms/step - loss: 0.2065 - custom_f1score: 0.9404 - val_loss: 0.1702 - val_custom_f1score: 0.9588\n",
            "Epoch 23/40\n",
            "1292/1292 [==============================] - 16s 12ms/step - loss: 0.1186 - custom_f1score: 0.9605 - val_loss: 0.1889 - val_custom_f1score: 0.9621\n",
            "Epoch 24/40\n",
            "1292/1292 [==============================] - 16s 12ms/step - loss: 0.1830 - custom_f1score: 0.9443 - val_loss: 0.2299 - val_custom_f1score: 0.9353\n",
            "Epoch 25/40\n",
            "1292/1292 [==============================] - 16s 12ms/step - loss: 0.1585 - custom_f1score: 0.9512 - val_loss: 0.2378 - val_custom_f1score: 0.9365\n",
            "Epoch 26/40\n",
            "1292/1292 [==============================] - 16s 12ms/step - loss: 0.1057 - custom_f1score: 0.9644 - val_loss: 0.2424 - val_custom_f1score: 0.9366\n",
            "Epoch 27/40\n",
            "1292/1292 [==============================] - 16s 12ms/step - loss: 0.0843 - custom_f1score: 0.9737 - val_loss: 0.1747 - val_custom_f1score: 0.9665\n",
            "Epoch 28/40\n",
            "1292/1292 [==============================] - 16s 12ms/step - loss: 0.1655 - custom_f1score: 0.9551 - val_loss: 0.2725 - val_custom_f1score: 0.9375\n",
            "Epoch 29/40\n",
            "1292/1292 [==============================] - 15s 12ms/step - loss: 0.1158 - custom_f1score: 0.9628 - val_loss: 0.3155 - val_custom_f1score: 0.9397\n",
            "Epoch 30/40\n",
            "1292/1292 [==============================] - 15s 12ms/step - loss: 0.1096 - custom_f1score: 0.9644 - val_loss: 0.2679 - val_custom_f1score: 0.9531\n",
            "Epoch 31/40\n",
            "1292/1292 [==============================] - 16s 12ms/step - loss: 0.1288 - custom_f1score: 0.9628 - val_loss: 0.2729 - val_custom_f1score: 0.9531\n",
            "Epoch 32/40\n",
            "1292/1292 [==============================] - 16s 12ms/step - loss: 0.0848 - custom_f1score: 0.9752 - val_loss: 0.1177 - val_custom_f1score: 0.9688\n",
            "Epoch 33/40\n",
            "1292/1292 [==============================] - 17s 13ms/step - loss: 0.0997 - custom_f1score: 0.9714 - val_loss: 0.1733 - val_custom_f1score: 0.9710\n",
            "Epoch 34/40\n",
            "1292/1292 [==============================] - 16s 12ms/step - loss: 0.1045 - custom_f1score: 0.9690 - val_loss: 0.1785 - val_custom_f1score: 0.9677\n",
            "Epoch 35/40\n",
            "1292/1292 [==============================] - 16s 12ms/step - loss: 0.1133 - custom_f1score: 0.9652 - val_loss: 0.1560 - val_custom_f1score: 0.9588\n",
            "Epoch 36/40\n",
            "1292/1292 [==============================] - 16s 12ms/step - loss: 0.1365 - custom_f1score: 0.9559 - val_loss: 0.2004 - val_custom_f1score: 0.9543\n",
            "Epoch 37/40\n",
            "1292/1292 [==============================] - 15s 12ms/step - loss: 0.0620 - custom_f1score: 0.9807 - val_loss: 0.1630 - val_custom_f1score: 0.9643\n",
            "Epoch 38/40\n",
            "1292/1292 [==============================] - 15s 12ms/step - loss: 0.1038 - custom_f1score: 0.9675 - val_loss: 0.1697 - val_custom_f1score: 0.9777\n",
            "Epoch 39/40\n",
            "1292/1292 [==============================] - 16s 12ms/step - loss: 0.0800 - custom_f1score: 0.9799 - val_loss: 0.3959 - val_custom_f1score: 0.9365\n",
            "Epoch 40/40\n",
            "1292/1292 [==============================] - 16s 12ms/step - loss: 0.1017 - custom_f1score: 0.9683 - val_loss: 0.1961 - val_custom_f1score: 0.9665\n"
          ]
        },
        {
          "output_type": "execute_result",
          "data": {
            "text/plain": [
              "<keras.callbacks.History at 0x7cece4e4f100>"
            ]
          },
          "metadata": {},
          "execution_count": 32
        }
      ],
      "source": [
        "batch_size = 1\n",
        "callbacks = [stop_training_callback()]\n",
        "model.fit(\n",
        "      train_generator,\n",
        "      steps_per_epoch = train_generator.samples // batch_size,\n",
        "      validation_data = validation_generator,\n",
        "      epochs = 40, verbose=1, callbacks=callbacks)"
      ]
    },
    {
      "cell_type": "markdown",
      "metadata": {
        "id": "UgPIeObrumiY"
      },
      "source": [
        "# Storing the Model, we just trained\n"
      ]
    },
    {
      "cell_type": "code",
      "execution_count": null,
      "metadata": {
        "colab": {
          "base_uri": "https://localhost:8080/"
        },
        "id": "SR5t6feAumiY",
        "outputId": "d3dc720c-b16e-44a2-813a-295bf06b4eed"
      },
      "outputs": [
        {
          "output_type": "stream",
          "name": "stdout",
          "text": [
            "Saved model to disk\n"
          ]
        }
      ],
      "source": [
        "store_keras_model(model, 'model_LicensePlate')"
      ]
    },
    {
      "cell_type": "markdown",
      "metadata": {
        "id": "brPbE6V9umiY"
      },
      "source": [
        "## Loading the Pre-Trained Model(remove the Comments and run it)"
      ]
    },
    {
      "cell_type": "code",
      "execution_count": null,
      "metadata": {
        "id": "wSBsnUBsumiY"
      },
      "outputs": [],
      "source": [
        "pre_trained_model = load_keras_model('model_LicensePlate')\n",
        "model = pre_trained_model"
      ]
    },
    {
      "cell_type": "markdown",
      "metadata": {
        "id": "o8a2eKYqumiY"
      },
      "source": [
        "### Checking if the model is the same"
      ]
    },
    {
      "cell_type": "code",
      "execution_count": null,
      "metadata": {
        "colab": {
          "base_uri": "https://localhost:8080/"
        },
        "id": "_RopWaidumiZ",
        "outputId": "9d71867f-efa1-47a8-f8ad-2a8f131a061b"
      },
      "outputs": [
        {
          "output_type": "stream",
          "name": "stdout",
          "text": [
            "1/1 [==============================] - 0s 96ms/step\n",
            "6\n",
            "1/1 [==============================] - 0s 23ms/step\n",
            "12\n",
            "1/1 [==============================] - 0s 21ms/step\n",
            "5\n",
            "1/1 [==============================] - 0s 21ms/step\n",
            "12\n",
            "1/1 [==============================] - 0s 23ms/step\n",
            "12\n",
            "1/1 [==============================] - 0s 19ms/step\n",
            "3\n",
            "1/1 [==============================] - 0s 27ms/step\n",
            "9\n",
            "1/1 [==============================] - 0s 23ms/step\n",
            "12\n",
            "1/1 [==============================] - 0s 21ms/step\n",
            "9\n",
            "1/1 [==============================] - 0s 19ms/step\n",
            "4\n",
            "1/1 [==============================] - 0s 21ms/step\n",
            "13\n",
            "1/1 [==============================] - 0s 25ms/step\n",
            "7\n",
            "1/1 [==============================] - 0s 27ms/step\n",
            "3\n",
            "1/1 [==============================] - 0s 26ms/step\n",
            "11\n",
            "1/1 [==============================] - 0s 28ms/step\n",
            "7\n",
            "6Matro5MatroMatro39Matro94ka73Jha7\n"
          ]
        }
      ],
      "source": [
        "def fix_dimension(img):\n",
        "    new_img = np.zeros((28,28,3))\n",
        "    for i in range(3):\n",
        "        new_img[:,:,i] = img\n",
        "    return new_img\n",
        "\n",
        "def show_results():\n",
        "    dic = {}\n",
        "    characters = ['0','1','2','3','4','5','6','7','8','9','Dhaka','Jha','Matro','ka','ga','La']\n",
        "    for i,c in enumerate(characters):\n",
        "        dic[i] = c\n",
        "\n",
        "    output = []\n",
        "    for i,ch in enumerate(char): #iterating over the characters\n",
        "        img_ = cv2.resize(ch, (28,28), interpolation=cv2.INTER_AREA)\n",
        "        img = fix_dimension(img_)\n",
        "        img = img.reshape(1,28,28,3) #preparing image for the model\n",
        "       # y_ = model.predict_classes(img)[0] #predicting the class\n",
        "       # y_ = (model.predict(img)[0] > 0.5).astype(\"int32\")\n",
        "        predict_x=model.predict(img)[0]\n",
        "        classes_x=np.argmax(predict_x,axis=0)\n",
        "        y_=classes_x\n",
        "        #print('wwwwwwwwwwwwwwwwwwwwwwwwwwwwwwwwwwwwwwwwwwwwwwwwwwwwwwwwwwwww')\n",
        "        print(y_)\n",
        "        character = dic[int(y_)] #\n",
        "        output.append(character) #storing the result in a list\n",
        "\n",
        "    plate_number = ''.join(map(str, output))\n",
        "    return plate_number\n",
        "\n",
        "a=show_results()\n",
        "print(a)\n",
        "\n",
        "\n"
      ]
    },
    {
      "cell_type": "code",
      "execution_count": null,
      "metadata": {
        "id": "zSk2NbXrbJdo"
      },
      "outputs": [],
      "source": [
        "from difflib import SequenceMatcher"
      ]
    },
    {
      "cell_type": "code",
      "execution_count": null,
      "metadata": {
        "id": "GTXuC3QjcMQa"
      },
      "outputs": [],
      "source": [
        "def similar(a,b):\n",
        "  return SequenceMatcher(None, a.lower(), b.lower()).ratio()"
      ]
    },
    {
      "cell_type": "code",
      "source": [
        "true_value = \"9dhaka94matro773jha7\"\n",
        "predicted_value = a[4:]\n",
        "print(similar(true_value,predicted_value))"
      ],
      "metadata": {
        "colab": {
          "base_uri": "https://localhost:8080/"
        },
        "id": "_Ge1EfF_cY3E",
        "outputId": "70086312-1417-458f-da6e-b93c79cb5f1b"
      },
      "execution_count": null,
      "outputs": [
        {
          "output_type": "stream",
          "name": "stdout",
          "text": [
            "0.9523809523809523\n"
          ]
        }
      ]
    },
    {
      "cell_type": "code",
      "source": [
        "scores = [0.950,0.867,0.8372,0.8125,0.909,0.857,0.973,0.878,0.814,0.858]\n",
        "scores=(sum(scores) / 10) * 100\n",
        "scores"
      ],
      "metadata": {
        "colab": {
          "base_uri": "https://localhost:8080/"
        },
        "id": "1uo764YWfRXx",
        "outputId": "6b211362-4c7b-41ec-e8cd-21365a42921c"
      },
      "execution_count": null,
      "outputs": [
        {
          "output_type": "execute_result",
          "data": {
            "text/plain": [
              "87.557"
            ]
          },
          "metadata": {},
          "execution_count": 207
        }
      ]
    },
    {
      "cell_type": "code",
      "execution_count": null,
      "metadata": {
        "colab": {
          "base_uri": "https://localhost:8080/",
          "height": 522
        },
        "id": "qqOQXMkBumiZ",
        "outputId": "8bb67c4f-64a6-4603-9768-3a6bdf01bab5"
      },
      "outputs": [
        {
          "output_type": "display_data",
          "data": {
            "text/plain": [
              "<Figure size 1000x600 with 15 Axes>"
            ],
            "image/png": "[encoded data removed]"
          },
          "metadata": {}
        }
      ],
      "source": [
        "# Segmented characters and their predicted value.\n",
        "plt.figure(figsize=(10,6))\n",
        "i=0\n",
        "for j,ch in enumerate(char):\n",
        "\n",
        "    img = cv2.resize(ch, (28,28), interpolation=cv2.INTER_AREA)\n",
        "    plt.subplot(4,4,j+1)\n",
        "    plt.imshow(img,cmap='gray')\n",
        "    if a[i]=='D':\n",
        "      x='Dhaka'\n",
        "      i=i+5\n",
        "    elif a[i]=='M':\n",
        "      x='Metro'\n",
        "      i=i+5\n",
        "    elif a[i]=='J':\n",
        "      x='Jha'\n",
        "      i=i+3\n",
        "    elif a[i]=='k':\n",
        "      x='ka'\n",
        "      i=i+2\n",
        "\n",
        "    elif a[i]=='g':\n",
        "      x='ga'\n",
        "      i=i+2\n",
        "\n",
        "    elif a[i]=='L':\n",
        "      x='La'\n",
        "      i=i+2\n",
        "\n",
        "    elif a[i]=='N':\n",
        "      x='Narayanganj'\n",
        "      i=i+10\n",
        "\n",
        "    else:\n",
        "      x=a[i]\n",
        "      i=i+1\n",
        "    title_obj = plt.title(f'predicted: {x}')\n",
        "    plt.setp(title_obj, color='black')\n",
        "    plt.axis('off')\n",
        "plt.show()"
      ]
    },
    {
      "cell_type": "code",
      "execution_count": null,
      "metadata": {
        "colab": {
          "base_uri": "https://localhost:8080/"
        },
        "id": "fO5jQ8vFumiZ",
        "outputId": "74d32846-723a-456d-ad64-9190cd7e6d43"
      },
      "outputs": [
        {
          "output_type": "stream",
          "name": "stdout",
          "text": [
            "Model: \"sequential\"\n",
            "_________________________________________________________________\n",
            " Layer (type)                Output Shape              Param #   \n",
            "=================================================================\n",
            " conv2d (Conv2D)             (None, 28, 28, 16)        23248     \n",
            "                                                                 \n",
            " conv2d_1 (Conv2D)           (None, 28, 28, 32)        131104    \n",
            "                                                                 \n",
            " conv2d_2 (Conv2D)           (None, 28, 28, 64)        131136    \n",
            "                                                                 \n",
            " conv2d_3 (Conv2D)           (None, 28, 28, 128)       131200    \n",
            "                                                                 \n",
            " max_pooling2d (MaxPooling2D  (None, 7, 7, 128)        0         \n",
            " )                                                               \n",
            "                                                                 \n",
            " flatten (Flatten)           (None, 6272)              0         \n",
            "                                                                 \n",
            " dense (Dense)               (None, 512)               3211776   \n",
            "                                                                 \n",
            " dropout (Dropout)           (None, 512)               0         \n",
            "                                                                 \n",
            " dense_1 (Dense)             (None, 128)               65664     \n",
            "                                                                 \n",
            " dense_2 (Dense)             (None, 17)                2193      \n",
            "                                                                 \n",
            "=================================================================\n",
            "Total params: 3,696,321\n",
            "Trainable params: 3,696,321\n",
            "Non-trainable params: 0\n",
            "_________________________________________________________________\n",
            "None\n"
          ]
        }
      ],
      "source": [
        "print(pre_trained_model.summary())"
      ]
    },
    {
      "cell_type": "markdown",
      "metadata": {
        "id": "t4LsJu0k4Fl8"
      },
      "source": [
        "Testing the model on the validation dataset because a seperate dataset for testing is not available."
      ]
    },
    {
      "cell_type": "code",
      "execution_count": null,
      "metadata": {
        "id": "6JIuw2Rt4Flu"
      },
      "outputs": [],
      "source": [
        "import numpy as np\n",
        "import matplotlib.pyplot as plt\n",
        "import seaborn as sns\n",
        "%matplotlib inline\n",
        "\n",
        "import cv2\n",
        "import os\n",
        "os.environ[\"TF_CPP_MIN_LOG_LEVEL\"] = \"2\"\n",
        "import warnings\n",
        "warnings.filterwarnings('ignore')\n",
        "\n",
        "from sklearn.metrics import confusion_matrix, classification_report\n",
        "\n",
        "import tensorflow as tf\n",
        "from tensorflow.keras.models import Sequential\n",
        "from tensorflow.keras.layers import Activation, BatchNormalization, Conv2D, Dense, Dropout, Flatten, MaxPooling2D\n",
        "from tensorflow.keras.preprocessing.image import ImageDataGenerator\n",
        "from tensorflow.keras.optimizers import Adam\n",
        "from tensorflow.keras.losses import CategoricalCrossentropy\n",
        "from tensorflow.keras.regularizers import l2\n",
        "from tensorflow.keras.callbacks import ReduceLROnPlateau, EarlyStopping\n"
      ]
    },
    {
      "cell_type": "code",
      "execution_count": null,
      "metadata": {
        "colab": {
          "base_uri": "https://localhost:8080/"
        },
        "id": "sGl7XXlsPO4J",
        "outputId": "81036515-7ca1-4929-f834-87e219d19d16"
      },
      "outputs": [
        {
          "output_type": "stream",
          "name": "stdout",
          "text": [
            "Label Mappings for classes present in the training and validation datasets\n",
            "\n",
            "0 : class_0\n",
            "1 : class_1\n",
            "2 : class_2\n",
            "3 : class_3\n",
            "4 : class_4\n",
            "5 : class_5\n",
            "6 : class_6\n",
            "7 : class_7\n",
            "8 : class_8\n",
            "9 : class_9\n",
            "10 : class_DHAKA\n",
            "11 : class_JHA\n",
            "12 : class_LA\n",
            "13 : class_MATRO\n",
            "14 : class_NARAYANGANJ\n",
            "15 : class_ga\n",
            "16 : class_k\n"
          ]
        }
      ],
      "source": [
        "labels = {value: key for key, value in train_generator.class_indices.items()}\n",
        "\n",
        "print(\"Label Mappings for classes present in the training and validation datasets\\n\")\n",
        "for key, value in labels.items():\n",
        "    print(f\"{key} : {value}\")"
      ]
    },
    {
      "cell_type": "code",
      "execution_count": null,
      "metadata": {
        "id": "4t2eDUvXt4zr"
      },
      "outputs": [],
      "source": [
        "#fig, ax = plt.subplots(nrows=2, ncols=5, figsize=(15, 12))\n",
        "#idx = 0\n",
        "\n",
        "#for i in range(2):\n",
        " #   for j in range(5):\n",
        "  #      label = labels[np.argmax(train_generator[0][0][idx])]\n",
        "   #     ax[i, j].set_title(f\"{label}\")\n",
        "    #    ax[i, j].imshow(train_generator[0][0][idx][:, :, :])\n",
        "     #   ax[i, j].axis(\"off\")\n",
        "      #  idx += 1\n",
        "\n",
        "#plt.tight_layout()\n",
        "#plt.suptitle(\"Sample Training Images\", fontsize=21)\n",
        "#plt.show()"
      ]
    },
    {
      "cell_type": "code",
      "execution_count": null,
      "metadata": {
        "id": "ZPXOFRbH4Fl8"
      },
      "outputs": [],
      "source": [
        "test_dataset = '/content/drive/MyDrive/testing_data'"
      ]
    },
    {
      "cell_type": "code",
      "execution_count": null,
      "metadata": {
        "colab": {
          "base_uri": "https://localhost:8080/"
        },
        "id": "0UIpCDOQ4Fl8",
        "outputId": "d1550003-915e-4bdc-c9b6-72c498047e51"
      },
      "outputs": [
        {
          "output_type": "stream",
          "name": "stdout",
          "text": [
            "Found 303 images belonging to 17 classes.\n"
          ]
        }
      ],
      "source": [
        "test_datagen = ImageDataGenerator(rescale=1.0/255)\n",
        "\n",
        "test_generator = test_datagen.flow_from_directory(test_dataset,\n",
        "                                                 shuffle=False,\n",
        "                                                 batch_size=1,\n",
        "                                                 target_size = (28,28),\n",
        "                                                 class_mode='categorical')"
      ]
    },
    {
      "cell_type": "markdown",
      "metadata": {
        "id": "juDByuma4Fl8"
      },
      "source": [
        "### **7. Model Prediction on the Test Dataset**"
      ]
    },
    {
      "cell_type": "code",
      "execution_count": null,
      "metadata": {
        "colab": {
          "base_uri": "https://localhost:8080/"
        },
        "id": "LQoEi4cL4Fl8",
        "outputId": "7e9ba116-bc97-435d-95c5-8f79ae45c8e5"
      },
      "outputs": [
        {
          "output_type": "stream",
          "name": "stdout",
          "text": [
            "303/303 [==============================] - 6s 20ms/step\n"
          ]
        }
      ],
      "source": [
        "predictions = model.predict(test_generator)"
      ]
    },
    {
      "cell_type": "code",
      "execution_count": null,
      "metadata": {
        "id": "C4vxCR4at4zv"
      },
      "outputs": [],
      "source": [
        "model.compile(optimizer=optimizers.Adam(learning_rate=0.0001), loss=CategoricalCrossentropy(), metrics=['accuracy'])"
      ]
    },
    {
      "cell_type": "code",
      "execution_count": null,
      "metadata": {
        "colab": {
          "base_uri": "https://localhost:8080/"
        },
        "id": "-VHvfPaJ4Fl9",
        "outputId": "6ccfa449-6115-4e8a-8cfc-b09d4213dbbb"
      },
      "outputs": [
        {
          "output_type": "stream",
          "name": "stdout",
          "text": [
            "303/303 [==============================] - 3s 8ms/step - loss: 0.3338 - accuracy: 0.9340\n"
          ]
        }
      ],
      "source": [
        "test_loss, test_accuracy = model.evaluate(test_generator, batch_size=1)"
      ]
    },
    {
      "cell_type": "code",
      "execution_count": null,
      "metadata": {
        "colab": {
          "base_uri": "https://localhost:8080/"
        },
        "id": "V_UV3qDA4Fl9",
        "outputId": "1174d918-2f23-4ca7-88de-5149a395477b"
      },
      "outputs": [
        {
          "output_type": "stream",
          "name": "stdout",
          "text": [
            "Test Loss:     0.3337598443031311\n",
            "Test Accuracy: 0.933993399143219\n"
          ]
        }
      ],
      "source": [
        "print(f\"Test Loss:     {test_loss}\")\n",
        "print(f\"Test Accuracy: {test_accuracy}\")"
      ]
    },
    {
      "cell_type": "code",
      "execution_count": null,
      "metadata": {
        "id": "jGZPPtwauYRj"
      },
      "outputs": [],
      "source": []
    },
    {
      "cell_type": "markdown",
      "metadata": {
        "id": "BiGgpNRIt4z3"
      },
      "source": [
        "### **8. Plotting the Classification Metrics**"
      ]
    },
    {
      "cell_type": "markdown",
      "metadata": {
        "id": "RqJ8jQWQt4z3"
      },
      "source": [
        "### **i. Confusion Matrix**"
      ]
    },
    {
      "cell_type": "code",
      "execution_count": null,
      "metadata": {
        "id": "Mc7nNmCrt4z4"
      },
      "outputs": [],
      "source": [
        "y_pred = np.argmax(predictions, axis=1)\n",
        "y_true = test_generator.classes"
      ]
    },
    {
      "cell_type": "code",
      "execution_count": null,
      "metadata": {
        "colab": {
          "base_uri": "https://localhost:8080/",
          "height": 1000
        },
        "id": "eu6DYMCrt4z4",
        "outputId": "aa91e5b4-c546-4899-8b82-e4044e74216f"
      },
      "outputs": [
        {
          "output_type": "display_data",
          "data": {
            "text/plain": [
              "<Figure size 1200x1000 with 2 Axes>"
            ],
            "image/png": "[encoded data removed]"
          },
          "metadata": {}
        }
      ],
      "source": [
        "import numpy as np\n",
        "import seaborn as sns\n",
        "import matplotlib.pyplot as plt\n",
        "\n",
        "cf_mtx = confusion_matrix(y_true, y_pred)\n",
        "\n",
        "group_counts = [\"{0:0.0f}\".format(value) for value in cf_mtx.flatten()]\n",
        "box_labels = np.asarray(group_counts).reshape(cf_mtx.shape[0], cf_mtx.shape[1])\n",
        "\n",
        "plt.figure(figsize=(12, 10))\n",
        "sns.heatmap(cf_mtx, xticklabels=labels.values(), yticklabels=labels.values(),\n",
        "            cmap=\"YlGnBu\", fmt=\"\", annot=box_labels)\n",
        "plt.xlabel('Predicted Classes')\n",
        "plt.ylabel('True Classes')\n",
        "plt.show()\n"
      ]
    },
    {
      "cell_type": "code",
      "execution_count": null,
      "metadata": {
        "colab": {
          "base_uri": "https://localhost:8080/"
        },
        "id": "yld9Pm5ut4z4",
        "outputId": "2403fbc3-09c1-44ef-96d0-466ad90a81b8"
      },
      "outputs": [
        {
          "output_type": "stream",
          "name": "stdout",
          "text": [
            "                   precision    recall  f1-score   support\n",
            "\n",
            "          class_0       0.95      0.91      0.93        22\n",
            "          class_1       0.82      0.85      0.84        27\n",
            "          class_2       0.92      0.96      0.94        23\n",
            "          class_3       0.95      0.95      0.95        22\n",
            "          class_4       1.00      0.70      0.82        23\n",
            "          class_5       0.92      1.00      0.96        24\n",
            "          class_6       0.96      0.88      0.92        26\n",
            "          class_7       0.83      1.00      0.91        20\n",
            "          class_8       0.95      0.95      0.95        21\n",
            "          class_9       0.91      0.95      0.93        21\n",
            "      class_DHAKA       1.00      1.00      1.00        12\n",
            "        class_JHA       1.00      1.00      1.00        14\n",
            "         class_LA       0.92      1.00      0.96        12\n",
            "      class_MATRO       1.00      1.00      1.00        10\n",
            "class_NARAYANGANJ       1.00      1.00      1.00        10\n",
            "         class_ga       1.00      1.00      1.00         9\n",
            "          class_k       1.00      1.00      1.00         7\n",
            "\n",
            "         accuracy                           0.93       303\n",
            "        macro avg       0.95      0.95      0.95       303\n",
            "     weighted avg       0.94      0.93      0.93       303\n",
            "\n"
          ]
        }
      ],
      "source": [
        "print(classification_report(y_true, y_pred, target_names=labels.values()))"
      ]
    }
  ]
}