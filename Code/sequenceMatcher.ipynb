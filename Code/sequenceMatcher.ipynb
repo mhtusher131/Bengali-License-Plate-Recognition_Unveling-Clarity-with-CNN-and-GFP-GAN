{
  "nbformat": 4,
  "nbformat_minor": 0,
  "metadata": {
    "colab": {
      "provenance": []
    },
    "kernelspec": {
      "name": "python3",
      "display_name": "Python 3"
    },
    "language_info": {
      "name": "python"
    }
  },
  "cells": [
    {
      "cell_type": "code",
      "execution_count": null,
      "metadata": {
        "id": "zSk2NbXrbJdo"
      },
      "outputs": [],
      "source": [
        "from difflib import SequenceMatcher"
      ]
    },
    {
      "cell_type": "code",
      "execution_count": null,
      "metadata": {
        "id": "GTXuC3QjcMQa"
      },
      "outputs": [],
      "source": [
        "def similar(a,b):\n",
        "  return SequenceMatcher(None, a.lower(), b.lower()).ratio()"
      ]
    },
    {
      "cell_type": "code",
      "source": [
        "true_value = \"9dhaka94matro773jha7\"\n",
        "predicted_value = a[4:]\n",
        "print(similar(true_value,predicted_value))"
      ],
      "metadata": {
        "colab": {
          "base_uri": "https://localhost:8080/"
        },
        "id": "_Ge1EfF_cY3E",
        "outputId": "70086312-1417-458f-da6e-b93c79cb5f1b"
      },
      "execution_count": null,
      "outputs": [
        {
          "output_type": "stream",
          "name": "stdout",
          "text": [
            "0.9523809523809523\n"
          ]
        }
      ]
    }
  ]
}